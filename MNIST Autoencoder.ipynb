{
 "cells": [
  {
   "cell_type": "markdown",
   "metadata": {},
   "source": [
    "# Autoencoders\n",
    "\n",
    "An autoencoder is a neural network where the output is supposed to be the same as the input. That's why it is called \"auto\" \"encoder\".\n",
    "\n",
    "![autoencoder](https://upload.wikimedia.org/wikipedia/commons/2/28/Autoencoder_structure.png)\n",
    "\n",
    "Yep, a neural network that just takes a picture of a cat and outputs the very same picture of a cat. Eee gat! Eee gat! What good is that?\n",
    "\n",
    "Well, it can be very useful.\n",
    "\n",
    "Let's take our standard MNIST dataset. It is a set of 28x28 images-- so 784 dimensions for each image. That's a lot of neurons for our input layer of the neural network. It would be nice if we could reduce the dimensions to make the network training go faster.\n",
    "\n",
    "Principal components analysis is what we've used in the past to reduce the dimensionality. In PCA, we are finding a linear way of reconstructing the images from a smaller set of dimensions (i.e. can 32 dimensions be used to reconstruct the original 784).\n",
    "\n",
    "Autoencoders are a non-linear (and can be linear) way of dimensionality reduction. I should be fair and note that this dimensionality reduction is fairly specific. For example, if I train an autoencoder to reduce images of handwritten numbers (MNIST) there's no reason to think it would work as well on images of cats. So I wouldn't recommend autoencoders as a generic method to use for simply compressing data. But it can be quite good if you are dealing with the same type of data. \n",
    "\n",
    "Hinton has a very good [paper](https://pdfs.semanticscholar.org/7d76/b71b700846901ac4ac119403aa737a285e36.pdf) showing how deep autoencoders can be used to separate data and make classification easier.\n"
   ]
  },
  {
   "cell_type": "code",
   "execution_count": 1,
   "metadata": {},
   "outputs": [
    {
     "name": "stderr",
     "output_type": "stream",
     "text": [
      "Using TensorFlow backend.\n"
     ]
    }
   ],
   "source": [
    "from keras.layers import Input, Dense\n",
    "from keras.models import Model\n",
    "from keras.callbacks import EarlyStopping\n",
    "from keras import regularizers"
   ]
  },
  {
   "cell_type": "markdown",
   "metadata": {},
   "source": [
    "# MNIST\n",
    "\n",
    "Let's apply a simple autoencoder to the MNIST dataset."
   ]
  },
  {
   "cell_type": "code",
   "execution_count": 2,
   "metadata": {},
   "outputs": [],
   "source": [
    "from keras.datasets import mnist\n",
    "import numpy as np"
   ]
  },
  {
   "cell_type": "code",
   "execution_count": 3,
   "metadata": {
    "collapsed": true
   },
   "outputs": [],
   "source": [
    "# use Matplotlib (don't ask)\n",
    "import matplotlib.pyplot as plt\n",
    "\n",
    "%matplotlib inline"
   ]
  },
  {
   "cell_type": "code",
   "execution_count": 4,
   "metadata": {
    "collapsed": true
   },
   "outputs": [],
   "source": [
    "(x_train, _), (x_test, _) = mnist.load_data()"
   ]
  },
  {
   "cell_type": "markdown",
   "metadata": {},
   "source": [
    "# Normalize the data\n",
    "\n",
    "Let's scale the data between 0 and 1. Then we'll unwrap the 28x28 matrix into a 784 vector."
   ]
  },
  {
   "cell_type": "code",
   "execution_count": 5,
   "metadata": {
    "collapsed": true
   },
   "outputs": [],
   "source": [
    "# Normalize images between 0 and 1 (rather than 0 to 255)\n",
    "x_train = x_train.astype('float32') / 255.\n",
    "x_test = x_test.astype('float32') / 255.\n",
    "\n",
    "# Reshape the matrix to 1 x 784\n",
    "x_train = x_train.reshape((len(x_train), np.prod(x_train.shape[1:])))\n",
    "x_test = x_test.reshape((len(x_test), np.prod(x_test.shape[1:])))\n"
   ]
  },
  {
   "cell_type": "markdown",
   "metadata": {},
   "source": [
    "# Encode to a reduce number of dimensions\n",
    "\n",
    "Let's get this down to 32 features from the original 784"
   ]
  },
  {
   "cell_type": "code",
   "execution_count": 6,
   "metadata": {
    "collapsed": true
   },
   "outputs": [],
   "source": [
    "# this is the size of our encoded representations\n",
    "encoding_dim = 32  # 32 floats -> compression of factor 24.5, assuming the input is 784 floats"
   ]
  },
  {
   "cell_type": "markdown",
   "metadata": {},
   "source": [
    "# Create autoencoder model\n",
    "\n",
    "So there are 3 layers:\n",
    "1. The input layer that is 784 neurons\n",
    "2. The \"encoding\" layer that is 32 neurons.\n",
    "3. The \"decoding\" layer that is 784 neurons\n"
   ]
  },
  {
   "cell_type": "code",
   "execution_count": 7,
   "metadata": {
    "collapsed": true
   },
   "outputs": [],
   "source": [
    "# this is our input placeholder\n",
    "input_img = Input(shape=(784,))\n",
    "\n",
    "# \"encoded\" is the encoded representation of the input\n",
    "reg = regularizers.l1(10e-7)\n",
    "#reg = None\n",
    "\n",
    "encoded = Dense(encoding_dim, activation='relu',\n",
    "                 activity_regularizer=reg)(input_img)\n",
    "\n",
    "# \"decoded\" is the lossy reconstruction of the input\n",
    "decoded = Dense(784, activation='sigmoid')(encoded)\n",
    "\n",
    "# this model maps an input to its reconstruction\n",
    "autoencoder = Model(input_img, decoded)"
   ]
  },
  {
   "cell_type": "code",
   "execution_count": 8,
   "metadata": {
    "collapsed": true
   },
   "outputs": [],
   "source": [
    "# this model maps an input to its encoded representation\n",
    "encoder = Model(input_img, encoded)"
   ]
  },
  {
   "cell_type": "code",
   "execution_count": 9,
   "metadata": {
    "collapsed": true
   },
   "outputs": [],
   "source": [
    "# create a placeholder for an encoded (32-dimensional) input\n",
    "encoded_input = Input(shape=(encoding_dim,))\n",
    "\n",
    "# retrieve the last layer of the autoencoder model\n",
    "decoder_layer = autoencoder.layers[-1]\n",
    "\n",
    "# create the decoder model\n",
    "decoder = Model(encoded_input, decoder_layer(encoded_input))"
   ]
  },
  {
   "cell_type": "code",
   "execution_count": 10,
   "metadata": {
    "collapsed": true
   },
   "outputs": [],
   "source": [
    "autoencoder.compile(optimizer='adam', loss='binary_crossentropy')"
   ]
  },
  {
   "cell_type": "code",
   "execution_count": 11,
   "metadata": {},
   "outputs": [
    {
     "name": "stdout",
     "output_type": "stream",
     "text": [
      "_________________________________________________________________\n",
      "Layer (type)                 Output Shape              Param #   \n",
      "=================================================================\n",
      "input_1 (InputLayer)         (None, 784)               0         \n",
      "_________________________________________________________________\n",
      "dense_1 (Dense)              (None, 32)                25120     \n",
      "_________________________________________________________________\n",
      "dense_2 (Dense)              (None, 784)               25872     \n",
      "=================================================================\n",
      "Total params: 50,992\n",
      "Trainable params: 50,992\n",
      "Non-trainable params: 0\n",
      "_________________________________________________________________\n"
     ]
    }
   ],
   "source": [
    "autoencoder.summary()"
   ]
  },
  {
   "cell_type": "code",
   "execution_count": 12,
   "metadata": {},
   "outputs": [
    {
     "name": "stdout",
     "output_type": "stream",
     "text": [
      "Train on 60000 samples, validate on 10000 samples\n",
      "Epoch 1/100\n",
      "60000/60000 [==============================] - 1s - loss: 0.2970 - val_loss: 0.2045\n",
      "Epoch 2/100\n",
      "60000/60000 [==============================] - 0s - loss: 0.1855 - val_loss: 0.1692\n",
      "Epoch 3/100\n",
      "60000/60000 [==============================] - 0s - loss: 0.1615 - val_loss: 0.1525\n",
      "Epoch 4/100\n",
      "60000/60000 [==============================] - 0s - loss: 0.1481 - val_loss: 0.1416\n",
      "Epoch 5/100\n",
      "60000/60000 [==============================] - 0s - loss: 0.1390 - val_loss: 0.1339\n",
      "Epoch 6/100\n",
      "60000/60000 [==============================] - 0s - loss: 0.1322 - val_loss: 0.1280\n",
      "Epoch 7/100\n",
      "60000/60000 [==============================] - 0s - loss: 0.1268 - val_loss: 0.1234\n",
      "Epoch 8/100\n",
      "60000/60000 [==============================] - 0s - loss: 0.1228 - val_loss: 0.1199\n",
      "Epoch 9/100\n",
      "60000/60000 [==============================] - 0s - loss: 0.1198 - val_loss: 0.1173\n",
      "Epoch 10/100\n",
      "60000/60000 [==============================] - 0s - loss: 0.1176 - val_loss: 0.1155\n",
      "Epoch 11/100\n",
      "60000/60000 [==============================] - 0s - loss: 0.1160 - val_loss: 0.1141\n",
      "Epoch 12/100\n",
      "60000/60000 [==============================] - 0s - loss: 0.1147 - val_loss: 0.1129\n",
      "Epoch 13/100\n",
      "60000/60000 [==============================] - 0s - loss: 0.1137 - val_loss: 0.1120\n",
      "Epoch 14/100\n",
      "60000/60000 [==============================] - 0s - loss: 0.1128 - val_loss: 0.1111\n",
      "Epoch 15/100\n",
      "60000/60000 [==============================] - 0s - loss: 0.1120 - val_loss: 0.1104\n",
      "Epoch 16/100\n",
      "60000/60000 [==============================] - 0s - loss: 0.1113 - val_loss: 0.1097\n",
      "Epoch 17/100\n",
      "60000/60000 [==============================] - 0s - loss: 0.1106 - val_loss: 0.1091\n",
      "Epoch 18/100\n",
      "60000/60000 [==============================] - 0s - loss: 0.1101 - val_loss: 0.1086\n",
      "Epoch 19/100\n",
      "60000/60000 [==============================] - 0s - loss: 0.1095 - val_loss: 0.1081\n",
      "Epoch 20/100\n",
      "60000/60000 [==============================] - 0s - loss: 0.1091 - val_loss: 0.1076\n",
      "Epoch 21/100\n",
      "60000/60000 [==============================] - 0s - loss: 0.1086 - val_loss: 0.1072\n",
      "Epoch 22/100\n",
      "60000/60000 [==============================] - 0s - loss: 0.1082 - val_loss: 0.1069\n",
      "Epoch 23/100\n",
      "60000/60000 [==============================] - 0s - loss: 0.1078 - val_loss: 0.1065\n",
      "Epoch 24/100\n",
      "60000/60000 [==============================] - 0s - loss: 0.1075 - val_loss: 0.1061\n",
      "Epoch 25/100\n",
      "60000/60000 [==============================] - 0s - loss: 0.1071 - val_loss: 0.1058\n",
      "Epoch 26/100\n",
      "60000/60000 [==============================] - 0s - loss: 0.1068 - val_loss: 0.1056\n",
      "Epoch 27/100\n",
      "60000/60000 [==============================] - 0s - loss: 0.1065 - val_loss: 0.1053\n",
      "Epoch 28/100\n",
      "60000/60000 [==============================] - 0s - loss: 0.1063 - val_loss: 0.1050\n",
      "Epoch 29/100\n",
      "60000/60000 [==============================] - 0s - loss: 0.1060 - val_loss: 0.1047\n",
      "Epoch 30/100\n",
      "60000/60000 [==============================] - 0s - loss: 0.1058 - val_loss: 0.1045\n",
      "Epoch 31/100\n",
      "60000/60000 [==============================] - 0s - loss: 0.1055 - val_loss: 0.1043\n",
      "Epoch 32/100\n",
      "60000/60000 [==============================] - 0s - loss: 0.1053 - val_loss: 0.1041\n",
      "Epoch 33/100\n",
      "60000/60000 [==============================] - 0s - loss: 0.1051 - val_loss: 0.1038\n",
      "Epoch 34/100\n",
      "60000/60000 [==============================] - 0s - loss: 0.1049 - val_loss: 0.1037\n",
      "Epoch 35/100\n",
      "60000/60000 [==============================] - 0s - loss: 0.1047 - val_loss: 0.1035\n",
      "Epoch 36/100\n",
      "60000/60000 [==============================] - 0s - loss: 0.1045 - val_loss: 0.1033\n",
      "Epoch 37/100\n",
      "60000/60000 [==============================] - 0s - loss: 0.1043 - val_loss: 0.1033\n",
      "Epoch 38/100\n",
      "60000/60000 [==============================] - 0s - loss: 0.1042 - val_loss: 0.1030\n",
      "Epoch 39/100\n",
      "60000/60000 [==============================] - 0s - loss: 0.1040 - val_loss: 0.1028\n",
      "Epoch 40/100\n",
      "60000/60000 [==============================] - 0s - loss: 0.1038 - val_loss: 0.1026\n",
      "Epoch 41/100\n",
      "60000/60000 [==============================] - 0s - loss: 0.1037 - val_loss: 0.1025\n",
      "Epoch 42/100\n",
      "60000/60000 [==============================] - 0s - loss: 0.1036 - val_loss: 0.1024\n",
      "Epoch 43/100\n",
      "60000/60000 [==============================] - 0s - loss: 0.1034 - val_loss: 0.1022\n",
      "Epoch 44/100\n",
      "60000/60000 [==============================] - 0s - loss: 0.1033 - val_loss: 0.1021\n",
      "Epoch 45/100\n",
      "60000/60000 [==============================] - 0s - loss: 0.1032 - val_loss: 0.1020\n",
      "Epoch 46/100\n",
      "60000/60000 [==============================] - 0s - loss: 0.1030 - val_loss: 0.1019\n",
      "Epoch 47/100\n",
      "60000/60000 [==============================] - 0s - loss: 0.1029 - val_loss: 0.1018\n",
      "Epoch 48/100\n",
      "60000/60000 [==============================] - 0s - loss: 0.1028 - val_loss: 0.1017\n",
      "Epoch 49/100\n",
      "60000/60000 [==============================] - 0s - loss: 0.1027 - val_loss: 0.1016\n",
      "Epoch 50/100\n",
      "60000/60000 [==============================] - 0s - loss: 0.1026 - val_loss: 0.1015\n",
      "Epoch 51/100\n",
      "60000/60000 [==============================] - 0s - loss: 0.1025 - val_loss: 0.1013\n",
      "Epoch 52/100\n",
      "60000/60000 [==============================] - 0s - loss: 0.1024 - val_loss: 0.1012\n",
      "Epoch 53/100\n",
      "60000/60000 [==============================] - 0s - loss: 0.1023 - val_loss: 0.1012\n",
      "Epoch 54/100\n",
      "60000/60000 [==============================] - 0s - loss: 0.1022 - val_loss: 0.1012\n",
      "Epoch 55/100\n",
      "60000/60000 [==============================] - 0s - loss: 0.1021 - val_loss: 0.1010\n",
      "Epoch 56/100\n",
      "60000/60000 [==============================] - 0s - loss: 0.1020 - val_loss: 0.1009\n",
      "Epoch 57/100\n",
      "60000/60000 [==============================] - 0s - loss: 0.1019 - val_loss: 0.1009\n",
      "Epoch 58/100\n",
      "60000/60000 [==============================] - 0s - loss: 0.1018 - val_loss: 0.1008\n",
      "Epoch 59/100\n",
      "60000/60000 [==============================] - 0s - loss: 0.1017 - val_loss: 0.1007\n",
      "Epoch 60/100\n",
      "60000/60000 [==============================] - 0s - loss: 0.1017 - val_loss: 0.1006\n",
      "Epoch 61/100\n",
      "60000/60000 [==============================] - 0s - loss: 0.1016 - val_loss: 0.1005\n",
      "Epoch 62/100\n",
      "60000/60000 [==============================] - 0s - loss: 0.1015 - val_loss: 0.1005\n",
      "Epoch 63/100\n",
      "60000/60000 [==============================] - 0s - loss: 0.1015 - val_loss: 0.1004\n",
      "Epoch 64/100\n",
      "60000/60000 [==============================] - 0s - loss: 0.1014 - val_loss: 0.1003\n",
      "Epoch 65/100\n",
      "60000/60000 [==============================] - 0s - loss: 0.1013 - val_loss: 0.1003\n",
      "Epoch 66/100\n",
      "60000/60000 [==============================] - 0s - loss: 0.1012 - val_loss: 0.1002\n",
      "Epoch 67/100\n",
      "60000/60000 [==============================] - 0s - loss: 0.1012 - val_loss: 0.1001\n",
      "Epoch 68/100\n",
      "60000/60000 [==============================] - 0s - loss: 0.1011 - val_loss: 0.1001\n",
      "Epoch 69/100\n",
      "60000/60000 [==============================] - 0s - loss: 0.1010 - val_loss: 0.1000\n",
      "Epoch 70/100\n",
      "60000/60000 [==============================] - 0s - loss: 0.1010 - val_loss: 0.0999\n",
      "Epoch 71/100\n",
      "60000/60000 [==============================] - 0s - loss: 0.1009 - val_loss: 0.0999\n",
      "Epoch 72/100\n",
      "60000/60000 [==============================] - 0s - loss: 0.1009 - val_loss: 0.0998\n",
      "Epoch 73/100\n",
      "60000/60000 [==============================] - 0s - loss: 0.1008 - val_loss: 0.0997\n",
      "Epoch 74/100\n",
      "60000/60000 [==============================] - 0s - loss: 0.1007 - val_loss: 0.0997\n",
      "Epoch 75/100\n",
      "60000/60000 [==============================] - 0s - loss: 0.1007 - val_loss: 0.0996\n",
      "Epoch 76/100\n",
      "60000/60000 [==============================] - 0s - loss: 0.1006 - val_loss: 0.0995\n",
      "Epoch 77/100\n",
      "60000/60000 [==============================] - 0s - loss: 0.1006 - val_loss: 0.0995\n",
      "Epoch 78/100\n",
      "60000/60000 [==============================] - 0s - loss: 0.1005 - val_loss: 0.0995\n",
      "Epoch 79/100\n",
      "60000/60000 [==============================] - 0s - loss: 0.1005 - val_loss: 0.0995\n",
      "Epoch 80/100\n",
      "60000/60000 [==============================] - 0s - loss: 0.1004 - val_loss: 0.0994\n",
      "Epoch 81/100\n",
      "60000/60000 [==============================] - 0s - loss: 0.1004 - val_loss: 0.0993\n",
      "Epoch 82/100\n",
      "60000/60000 [==============================] - 0s - loss: 0.1003 - val_loss: 0.0993\n",
      "Epoch 83/100\n",
      "60000/60000 [==============================] - 0s - loss: 0.1003 - val_loss: 0.0993\n",
      "Epoch 84/100\n",
      "60000/60000 [==============================] - 0s - loss: 0.1002 - val_loss: 0.0992\n",
      "Epoch 85/100\n"
     ]
    },
    {
     "name": "stdout",
     "output_type": "stream",
     "text": [
      "60000/60000 [==============================] - 0s - loss: 0.1002 - val_loss: 0.0991\n",
      "Epoch 86/100\n",
      "60000/60000 [==============================] - 0s - loss: 0.1001 - val_loss: 0.0990\n",
      "Epoch 87/100\n",
      "60000/60000 [==============================] - 0s - loss: 0.1001 - val_loss: 0.0990\n",
      "Epoch 88/100\n",
      "60000/60000 [==============================] - 0s - loss: 0.1000 - val_loss: 0.0990\n",
      "Epoch 89/100\n",
      "60000/60000 [==============================] - 0s - loss: 0.1000 - val_loss: 0.0990\n",
      "Epoch 90/100\n",
      "60000/60000 [==============================] - 0s - loss: 0.1000 - val_loss: 0.0989\n",
      "Epoch 91/100\n",
      "60000/60000 [==============================] - 0s - loss: 0.0999 - val_loss: 0.0989\n",
      "Epoch 92/100\n",
      "60000/60000 [==============================] - 0s - loss: 0.0999 - val_loss: 0.0990\n",
      "Epoch 93/100\n",
      "60000/60000 [==============================] - 0s - loss: 0.0998 - val_loss: 0.0988\n",
      "Epoch 94/100\n",
      "60000/60000 [==============================] - 0s - loss: 0.0998 - val_loss: 0.0988\n",
      "Epoch 95/100\n",
      "60000/60000 [==============================] - 0s - loss: 0.0998 - val_loss: 0.0989\n",
      "Epoch 96/100\n",
      "60000/60000 [==============================] - 0s - loss: 0.0997 - val_loss: 0.0987\n",
      "Epoch 97/100\n",
      "60000/60000 [==============================] - 0s - loss: 0.0997 - val_loss: 0.0986\n",
      "Epoch 98/100\n",
      "60000/60000 [==============================] - 0s - loss: 0.0996 - val_loss: 0.0987\n",
      "Epoch 99/100\n",
      "60000/60000 [==============================] - 0s - loss: 0.0996 - val_loss: 0.0985\n",
      "Epoch 100/100\n",
      "60000/60000 [==============================] - 0s - loss: 0.0996 - val_loss: 0.0985\n"
     ]
    },
    {
     "data": {
      "text/plain": [
       "<keras.callbacks.History at 0x7ff85de37910>"
      ]
     },
     "execution_count": 12,
     "metadata": {},
     "output_type": "execute_result"
    }
   ],
   "source": [
    "autoencoder.fit(x_train, x_train,\n",
    "                epochs=100,\n",
    "                batch_size=256,\n",
    "                shuffle=True,\n",
    "                validation_data=(x_test, x_test),\n",
    "                callbacks = [  # Extra functions called during training\n",
    "                             EarlyStopping(monitor='val_loss', patience=3, verbose=1, mode='auto')])"
   ]
  },
  {
   "cell_type": "code",
   "execution_count": 13,
   "metadata": {
    "collapsed": true
   },
   "outputs": [],
   "source": [
    "# encode and decode some digits\n",
    "# note that we take them from the *test* set\n",
    "encoded_imgs = encoder.predict(x_test)\n",
    "decoded_imgs = decoder.predict(encoded_imgs)"
   ]
  },
  {
   "cell_type": "code",
   "execution_count": 14,
   "metadata": {},
   "outputs": [
    {
     "data": {
      "image/png": "[encoded data removed]",
      "text/plain": [
       "<matplotlib.figure.Figure at 0x7ff85dd86090>"
      ]
     },
     "metadata": {},
     "output_type": "display_data"
    }
   ],
   "source": [
    "n = 10  # how many digits we will display\n",
    "plt.figure(figsize=(20, 4))\n",
    "for i in range(n):\n",
    "    # display original\n",
    "    ax = plt.subplot(2, n, i + 1)\n",
    "    plt.imshow(x_test[i].reshape(28, 28))\n",
    "    plt.gray()\n",
    "    ax.get_xaxis().set_visible(False)\n",
    "    ax.get_yaxis().set_visible(False)\n",
    "\n",
    "    # display reconstruction\n",
    "    ax = plt.subplot(2, n, i + 1 + n)\n",
    "    plt.imshow(decoded_imgs[i].reshape(28, 28))\n",
    "    plt.gray()\n",
    "    ax.get_xaxis().set_visible(False)\n",
    "    ax.get_yaxis().set_visible(False)\n",
    "plt.show()"
   ]
  },
  {
   "cell_type": "markdown",
   "metadata": {},
   "source": [
    "# Sparsity\n",
    "\n",
    "We can measure the sparsity of the encoder matrix by just getting the mean value. So here we calculate the mean value of the 32 dimensions for all 10,000 test examples. The smaller the number, the more sparse the encoding."
   ]
  },
  {
   "cell_type": "code",
   "execution_count": 15,
   "metadata": {},
   "outputs": [
    {
     "data": {
      "text/plain": [
       "array([ 0.69182253,  0.        ,  1.00263691,  0.10057664,  0.85748416,\n",
       "        0.38706851,  0.74713916,  0.28912231,  0.90457207,  0.59719551,\n",
       "        0.28239521,  0.74126256,  0.80670613,  0.60838544,  0.31535879,\n",
       "        0.21921009,  1.14437616,  0.55015767,  0.77234882,  0.73497182,\n",
       "        0.50360519,  0.94996983,  0.89061826,  0.21475574,  1.06839347,\n",
       "        1.40127969,  0.7531997 ,  0.64178181,  0.20284069,  0.47237492,\n",
       "        0.40927809,  0.02662843], dtype=float32)"
      ]
     },
     "execution_count": 15,
     "metadata": {},
     "output_type": "execute_result"
    }
   ],
   "source": [
    "encoded_imgs[24,:]  # Weights for test image 24"
   ]
  },
  {
   "cell_type": "code",
   "execution_count": 16,
   "metadata": {},
   "outputs": [
    {
     "data": {
      "text/plain": [
       "0.72388303"
      ]
     },
     "execution_count": 16,
     "metadata": {},
     "output_type": "execute_result"
    }
   ],
   "source": [
    "encoded_imgs.mean()"
   ]
  },
  {
   "cell_type": "markdown",
   "metadata": {},
   "source": [
    "# Comparing autoencoders to PCA\n",
    "\n",
    "These are comparisons made in Hinton's [2006 paper](https://pdfs.semanticscholar.org/7d76/b71b700846901ac4ac119403aa737a285e36.pdf).\n",
    "\n",
    "It's not simply that autoencoders can reduce dimensionality. What Hinton shows is that the dimensions allow different classes to be \"pushed\" apart. It makes classification easier.\n",
    "\n",
    "![mnist](http://nikhilbuduma.com/img/autoencoder_digit_exp.png)\n",
    "Plotting first two dimensions of the MNIST dataset. Left: PCA, Right: Autoencoder\n",
    "\n",
    "<br>\n",
    "<br>\n",
    "<br>\n",
    "\n",
    "![gold](http://nikhilbuduma.com/img/autoencoder_nlp_exp.png)\n",
    "Plotting first two dimensions of economic dataset. Left: PCA, Right: Autoencoder\n",
    "\n",
    "<br><br><br>\n",
    "\n",
    "![faces](http://nikhilbuduma.com/img/autoencoder_face_exp.png)\n",
    "Top row = Original image,\n",
    "Middle row = 30 dimensional autoencoder reconstruction,\n",
    "Bottom row = 30 dimensional PCA reconstruction\n"
   ]
  },
  {
   "cell_type": "code",
   "execution_count": null,
   "metadata": {
    "collapsed": true
   },
   "outputs": [],
   "source": []
  }
 ],
 "metadata": {
  "kernelspec": {
   "display_name": "Python 2",
   "language": "python",
   "name": "python2"
  },
  "language_info": {
   "codemirror_mode": {
    "name": "ipython",
    "version": 2
   },
   "file_extension": ".py",
   "mimetype": "text/x-python",
   "name": "python",
   "nbconvert_exporter": "python",
   "pygments_lexer": "ipython2",
   "version": "2.7.13"
  }
 },
 "nbformat": 4,
 "nbformat_minor": 2
}
