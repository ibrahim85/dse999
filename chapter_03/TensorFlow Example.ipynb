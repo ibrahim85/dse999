{
 "cells": [
  {
   "cell_type": "markdown",
   "metadata": {},
   "source": [
    "# TensorFlow example\n",
    "\n",
    "[TensorFlow](https://www.tensorflow.org/) is one of the many deep learning packages. It is written in C++ but the API is in Python. Many of the functions mirror NumPy.\n",
    "\n",
    "It should be noted that-- as with most of these \"deep learning\" toolkits-- the library can be used to do all sorts of machine learning. It is *not* limited to simply neural networks. \n",
    "\n",
    "TensorFlow/Theano/Caffe/Torch/etc are really just symbolic math libraries. The advantage of using these libraries is that they are designed to be run on machines with GPUs. So--like Spark-- they allow us to run algorithms faster by distributing the calculations over several processors (in this case GPUs and multi-core CPUs). Additionally, they symbolically calculate derivatives of functions which gives a better and faster implementation of back-propagation.\n",
    "\n",
    "We'll be using [Keras](https://keras.io/) as the actual interface to Tensorflow/Theano/etc. Keras provides an abstraction layer above TensorFlow/Theano. It will handle a lot of the heavy lifting so that we can just define the neural network parameters and it can handle the actual TensorFlow coding.\n",
    "\n",
    "I should also note that TensorFlow has officially supported [SKFlow](https://github.com/tensorflow/tensorflow/tree/master/tensorflow/contrib/learn/python/learn) which is a Sk-Learn binding to TensorFlow. This might be something that takes up traction as it gives you the pre-defined routines of sk-learn with the GPU scalability of TensorFlow. Examples of the typical sk-learn datasets are [here](https://github.com/tensorflow/tensorflow/tree/master/tensorflow/examples/learn)."
   ]
  },
  {
   "cell_type": "code",
   "execution_count": 1,
   "metadata": {
    "collapsed": true
   },
   "outputs": [],
   "source": [
    "# Example of TensorFlow library\n",
    "import tensorflow as tf"
   ]
  },
  {
   "cell_type": "markdown",
   "metadata": {},
   "source": [
    "## Tensors\n",
    "\n",
    "In the case of all of these packages, a tensor is just an abstraction for a N-dimensional matrix (N rank). So a scalar is a Tensor of dimension 0. A vector is a tensor of dimension 1, a matrix is a tensor of dimension 2. Tensors become useful for things like image processing because there are 3 color channels (red, green, blue). So a color image is $n \\times m \\times 3$ matrix or a 3-Tensor (n pixels width, m pixels height). A video would be a 4-Tensor $n \\times m \\times 3 \\times t$ where t is the index of the video frame. So tensors help us to store our data in a logical format and process them in a logical way (e.g. we know what a dimension refers to in the real world).\n",
    "\n",
    "Here's from the TensorFlow documentation:\n",
    "\n",
    " Tensor Rank |\tMathematical Construct |\tPython example \n",
    " :----: | -------     | ------\n",
    " 0    |\tScalar (magnitude only) |\ts = 123 \n",
    " 1 \t  | Vector (magnitude and direction) | \tv = [1.1, 2.2, 3.3] \n",
    " 2 \t  | Matrix (table of numbers) \t| m = [[1, 2, 3], [4, 5, 6], [7, 8, 9]] \n",
    " 3 \t  | 3-Tensor (cube) |\tt = [[[2], [4], [6]], [[8], [10], [12]], [[14], [16], [18]]] "
   ]
  },
  {
   "cell_type": "code",
   "execution_count": 2,
   "metadata": {
    "collapsed": true
   },
   "outputs": [],
   "source": [
    "# declare two symbolic floating-point scalars\n",
    "a = tf.placeholder(tf.float32)\n",
    "b = tf.placeholder(tf.float32)"
   ]
  },
  {
   "cell_type": "markdown",
   "metadata": {},
   "source": [
    "## Note that \"a\" is just a place holder (i.e. a variable) for a float32 scalar.\n",
    "\n",
    "We'll feed data into \"a\" later."
   ]
  },
  {
   "cell_type": "code",
   "execution_count": 3,
   "metadata": {},
   "outputs": [
    {
     "name": "stdout",
     "output_type": "stream",
     "text": [
      "Tensor(\"Placeholder:0\", dtype=float32)\n"
     ]
    }
   ],
   "source": [
    "print(a)    # \"Placeholder:#\" is the internal name for the node of type float32"
   ]
  },
  {
   "cell_type": "code",
   "execution_count": 4,
   "metadata": {
    "collapsed": true
   },
   "outputs": [],
   "source": [
    "# create a simple symbolic expression using the add and multiply function\n",
    "fun = tf.add(a, b) + tf.multiply(a,b)  # I could also do fun = a+b + a*b"
   ]
  },
  {
   "cell_type": "markdown",
   "metadata": {},
   "source": [
    "## TensorFlow sessions\n",
    "\n",
    "TensorFlow doesn't actually execute anything until a session is created and run.  So it's like Spark's lazy execution. Setting up a session instructs TensorFlow to make the plan of how it will use the resources (GPU/CPU). TensorFlow automatically determines the best way to assign a GPU or CPU device to an operation depending on what it has available. That's called the *graph*. Then, session.run() will actually cause the graph to execute and return a result.\n",
    "\n",
    "So in the graph our nodes are operations, variables, and constants. Our edges are tensors-- n-dimensional data arrays. Tensors _flow_ between nodes. Hence, tensor flow."
   ]
  },
  {
   "cell_type": "markdown",
   "metadata": {},
   "source": [
    "Here's what our graph looks like. Each worker (GPU/CPU) will get a copy of the graph and feed data into it.\n",
    "\n",
    "![Graph](../tfGraph.png)"
   ]
  },
  {
   "cell_type": "code",
   "execution_count": 5,
   "metadata": {
    "collapsed": true
   },
   "outputs": [],
   "source": [
    "sess = tf.Session()   # A new session is created. Still waiting for graph to be defined."
   ]
  },
  {
   "cell_type": "markdown",
   "metadata": {},
   "source": [
    "## Write the graph\n",
    "\n",
    "We don't have to write out the graph, but we're doing this to demonstrate the use of [TensorBoard](https://www.tensorflow.org/get_started/summaries_and_tensorboard). TensorBoard is a built in GUI that allows us to monitor our TensorFlow graphs. For this example, we just write the proposed graph to file.\n",
    "\n",
    "To view the file, go to the command prompt and type:\n",
    "\n",
    "> tensorboard --logdir=\"./graphs\" --port 6006<br><br>\n",
    "Then have your browser go to http://localhost:6006 and click on the \"Graphs\" tab."
   ]
  },
  {
   "cell_type": "markdown",
   "metadata": {},
   "source": [
    "It should look something like this:\n",
    "\n",
    "![image](tfGraph2.png)"
   ]
  },
  {
   "cell_type": "code",
   "execution_count": 6,
   "metadata": {
    "collapsed": true
   },
   "outputs": [],
   "source": [
    "writer = tf.summary.FileWriter('./graphs', sess.graph) # Writes our graph to a file for TensorBoard"
   ]
  },
  {
   "cell_type": "code",
   "execution_count": 7,
   "metadata": {
    "collapsed": true
   },
   "outputs": [],
   "source": [
    "# Let's define the data we want to pass to this graph\n",
    "# bind 5 to 'a', 3 to 'b'\n",
    "binding = {a: 5, b: 3}"
   ]
  },
  {
   "cell_type": "code",
   "execution_count": 8,
   "metadata": {},
   "outputs": [
    {
     "name": "stdout",
     "output_type": "stream",
     "text": [
      "23.0\n",
      "<type 'numpy.float32'>\n"
     ]
    }
   ],
   "source": [
    "result = sess.run(fun, feed_dict=binding)  # Run the graph 'fun' using the data dictionary 'binding'\n",
    "\n",
    "# Results comes back in result\n",
    "print(result)\n",
    "print(type(result))"
   ]
  },
  {
   "cell_type": "code",
   "execution_count": 9,
   "metadata": {
    "collapsed": true
   },
   "outputs": [],
   "source": [
    "writer.close()\n",
    "sess.close() # Close the current session"
   ]
  },
  {
   "cell_type": "markdown",
   "metadata": {},
   "source": [
    "## Interactive sessions\n",
    "\n",
    "[Interactive sessions](http://learningtensorflow.com/lesson5/) make it easier for us to try things out without having to keep referring to the session variable."
   ]
  },
  {
   "cell_type": "code",
   "execution_count": 10,
   "metadata": {
    "collapsed": true
   },
   "outputs": [],
   "source": [
    "sess = tf.InteractiveSession()"
   ]
  },
  {
   "cell_type": "code",
   "execution_count": 11,
   "metadata": {
    "collapsed": true
   },
   "outputs": [],
   "source": [
    "x = tf.constant([1, -2, 3.2], tf.float32)\n",
    "y = tf.constant([-1, 2, -3], tf.float32)  # TF duck-types so this will be int vector if not explicitly defined as float32"
   ]
  },
  {
   "cell_type": "markdown",
   "metadata": {},
   "source": [
    "## Dot product of two vectors"
   ]
  },
  {
   "cell_type": "code",
   "execution_count": 12,
   "metadata": {
    "collapsed": true
   },
   "outputs": [],
   "source": [
    "dot_product = tf.reduce_sum(tf.multiply(x, y))"
   ]
  },
  {
   "cell_type": "code",
   "execution_count": 14,
   "metadata": {},
   "outputs": [
    {
     "name": "stdout",
     "output_type": "stream",
     "text": [
      "-14.6\n",
      "<type 'numpy.float32'>\n"
     ]
    }
   ],
   "source": [
    "d = dot_product.eval()\n",
    "\n",
    "print(d)\n",
    "print(type(d))"
   ]
  },
  {
   "cell_type": "code",
   "execution_count": 15,
   "metadata": {
    "collapsed": true
   },
   "outputs": [],
   "source": [
    "sess.close() # Close the current session"
   ]
  },
  {
   "cell_type": "markdown",
   "metadata": {},
   "source": [
    "## Simple sum - Lazy Evaluation of the Graph"
   ]
  },
  {
   "cell_type": "code",
   "execution_count": 16,
   "metadata": {
    "collapsed": true
   },
   "outputs": [],
   "source": [
    "sess = tf.InteractiveSession()"
   ]
  },
  {
   "cell_type": "code",
   "execution_count": 17,
   "metadata": {
    "collapsed": true
   },
   "outputs": [],
   "source": [
    "add = tf.add(-4,6)"
   ]
  },
  {
   "cell_type": "markdown",
   "metadata": {},
   "source": [
    "## Notice that \"add\" doesn't actually get evaluated at this step\n",
    "\n",
    "Currently, add just holds a graph which anticipates loading int32. Even the shape of the output is undefined until execution time (it will be based on the actual data inputed)."
   ]
  },
  {
   "cell_type": "code",
   "execution_count": 18,
   "metadata": {},
   "outputs": [
    {
     "name": "stdout",
     "output_type": "stream",
     "text": [
      "Tensor(\"Add_1:0\", shape=(), dtype=int32)\n"
     ]
    }
   ],
   "source": [
    "print(add)"
   ]
  },
  {
   "cell_type": "code",
   "execution_count": 19,
   "metadata": {},
   "outputs": [
    {
     "data": {
      "text/plain": [
       "2"
      ]
     },
     "execution_count": 19,
     "metadata": {},
     "output_type": "execute_result"
    }
   ],
   "source": [
    "add.eval()  # Now we execute the graph"
   ]
  },
  {
   "cell_type": "code",
   "execution_count": 20,
   "metadata": {
    "collapsed": true
   },
   "outputs": [],
   "source": [
    "sess.close()"
   ]
  },
  {
   "cell_type": "markdown",
   "metadata": {},
   "source": [
    "## Using Python, Numpy, and TensorFlow to define our tensors"
   ]
  },
  {
   "cell_type": "code",
   "execution_count": 21,
   "metadata": {
    "collapsed": true
   },
   "outputs": [],
   "source": [
    "import numpy as np\n",
    "\n",
    "# Define a 2x2 matrix in 3 different ways\n",
    "m1 = [[1.0, 2.0], \n",
    "      [3.0, 4.0]]\n",
    "\n",
    "m2 = np.array([[1.0, 2.0], \n",
    "               [3.0, 4.0]], dtype=np.float32)\n",
    "\n",
    "\n",
    "m3 = tf.constant([[-1.0, 3.0], \n",
    "                  [3.3, -4.4]], tf.float32)"
   ]
  },
  {
   "cell_type": "code",
   "execution_count": 22,
   "metadata": {},
   "outputs": [
    {
     "name": "stdout",
     "output_type": "stream",
     "text": [
      "<type 'list'>\n",
      "<type 'numpy.ndarray'>\n",
      "<class 'tensorflow.python.framework.ops.Tensor'>\n"
     ]
    }
   ],
   "source": [
    "# Print the type for each matrix\n",
    "print(type(m1))\n",
    "print(type(m2))\n",
    "print(type(m3))"
   ]
  },
  {
   "cell_type": "code",
   "execution_count": 25,
   "metadata": {
    "collapsed": true
   },
   "outputs": [],
   "source": [
    "# Create tensor objects out of the different types\n",
    "t1 = tf.convert_to_tensor(m1, dtype=tf.float32)\n",
    "t2 = tf.convert_to_tensor(m2, dtype=tf.float32)\n",
    "t3 = m3 #tf.convert_to_tensor(m3, dtype=tf.float32)"
   ]
  },
  {
   "cell_type": "code",
   "execution_count": 26,
   "metadata": {},
   "outputs": [
    {
     "name": "stdout",
     "output_type": "stream",
     "text": [
      "<class 'tensorflow.python.framework.ops.Tensor'>\n",
      "<class 'tensorflow.python.framework.ops.Tensor'>\n",
      "<class 'tensorflow.python.framework.ops.Tensor'>\n"
     ]
    }
   ],
   "source": [
    "# Notice that the types will be the same now\n",
    "print(type(t1))\n",
    "print(type(t2))\n",
    "print(type(t3))"
   ]
  },
  {
   "cell_type": "markdown",
   "metadata": {},
   "source": [
    "## Let's run more than one graph\n",
    "\n",
    "If we use the \"with\" clause, then we don't need to specifically close the session. "
   ]
  },
  {
   "cell_type": "code",
   "execution_count": 27,
   "metadata": {
    "collapsed": true
   },
   "outputs": [],
   "source": [
    "tfADD = tf.add(t1, t2)\n",
    "tfADD2 = tf.subtract(t2, t3) + tf.exp(t1) # Subtract t2 and t2, then add exponential of t1"
   ]
  },
  {
   "cell_type": "code",
   "execution_count": 28,
   "metadata": {
    "collapsed": true
   },
   "outputs": [],
   "source": [
    "# Start a session to be able to run operations\n",
    "with tf.Session() as sess:\n",
    "    # Tell the session to evaluate the operation\n",
    "    result = sess.run(tfADD)\n",
    "    result2 = sess.run(tfADD2)"
   ]
  },
  {
   "cell_type": "code",
   "execution_count": 31,
   "metadata": {},
   "outputs": [
    {
     "name": "stdout",
     "output_type": "stream",
     "text": [
      "[[ 2.  4.]\n",
      " [ 6.  8.]]\n",
      "<type 'numpy.ndarray'>\n"
     ]
    }
   ],
   "source": [
    "print(result)\n",
    "print(type(result))"
   ]
  },
  {
   "cell_type": "code",
   "execution_count": 30,
   "metadata": {},
   "outputs": [
    {
     "name": "stdout",
     "output_type": "stream",
     "text": [
      "[[  4.71828175   6.38905621]\n",
      " [ 19.78553772  62.99815369]]\n"
     ]
    }
   ],
   "source": [
    "print(result2)"
   ]
  },
  {
   "cell_type": "markdown",
   "metadata": {},
   "source": [
    "## Defining ranges\n",
    "\n",
    "All of the standard numpy equivalents are here:\n",
    "\n",
    "+ tf.ones(shape, dtype, name)\n",
    "+ tf.zeros(shape, dtype, name)\n",
    "+ tf.fill(dims, value_name)\n",
    "+ tf.linspace(start, stop, num, name=None)\n",
    "+ tf.range(start, limit=None, delta=1, dtype=None, name='range')"
   ]
  },
  {
   "cell_type": "code",
   "execution_count": 33,
   "metadata": {
    "collapsed": true
   },
   "outputs": [],
   "source": [
    "sess = tf.InteractiveSession()"
   ]
  },
  {
   "cell_type": "code",
   "execution_count": 34,
   "metadata": {},
   "outputs": [
    {
     "name": "stdout",
     "output_type": "stream",
     "text": [
      "[[ 1.  1.  1.]\n",
      " [ 1.  1.  1.]]\n"
     ]
    }
   ],
   "source": [
    "print (tf.ones([2,3]).eval())"
   ]
  },
  {
   "cell_type": "code",
   "execution_count": 35,
   "metadata": {},
   "outputs": [
    {
     "name": "stdout",
     "output_type": "stream",
     "text": [
      "[[ 0.  0.  0.  0.  0.]\n",
      " [ 0.  0.  0.  0.  0.]\n",
      " [ 0.  0.  0.  0.  0.]]\n"
     ]
    }
   ],
   "source": [
    "print(tf.zeros([3,5]).eval())"
   ]
  },
  {
   "cell_type": "code",
   "execution_count": 36,
   "metadata": {},
   "outputs": [
    {
     "name": "stdout",
     "output_type": "stream",
     "text": [
      "[[ 4.5  4.5]\n",
      " [ 4.5  4.5]]\n"
     ]
    }
   ],
   "source": [
    "print(tf.fill([2,2], 4.5).eval())   # 2 x 2 matrix filled with 4.5"
   ]
  },
  {
   "cell_type": "code",
   "execution_count": 38,
   "metadata": {},
   "outputs": [
    {
     "name": "stdout",
     "output_type": "stream",
     "text": [
      "[  2.   5.   8.  11.]\n"
     ]
    }
   ],
   "source": [
    "print(tf.linspace(2.0, 11.0, 4).eval())   # From 2 to 11 with exactly 4 elements"
   ]
  },
  {
   "cell_type": "code",
   "execution_count": 43,
   "metadata": {},
   "outputs": [
    {
     "name": "stdout",
     "output_type": "stream",
     "text": [
      "[0 1 2 3 4]\n"
     ]
    }
   ],
   "source": [
    "print(tf.range(5).eval())   # From zero to 5 in steps of 1"
   ]
  },
  {
   "cell_type": "code",
   "execution_count": 57,
   "metadata": {},
   "outputs": [
    {
     "name": "stdout",
     "output_type": "stream",
     "text": [
      "[ 5  9 13 17 21]\n"
     ]
    }
   ],
   "source": [
    "print(tf.range(5,23,4).eval()) # From 5 to 23 in steps of 4"
   ]
  },
  {
   "cell_type": "markdown",
   "metadata": {},
   "source": [
    "## Random numbers\n",
    "\n",
    "Let's generate random number arrays"
   ]
  },
  {
   "cell_type": "code",
   "execution_count": 46,
   "metadata": {},
   "outputs": [
    {
     "name": "stdout",
     "output_type": "stream",
     "text": [
      "[[ 3.03492737  0.04655898 -6.37584066]\n",
      " [-0.21875036 -2.02287245  0.89129341]]\n"
     ]
    }
   ],
   "source": [
    "print(tf.random_normal([2, 3], mean=-1, stddev=4).eval())  # Normal distribution 2x3 matrix, mean -1, std = 4"
   ]
  },
  {
   "cell_type": "code",
   "execution_count": 39,
   "metadata": {
    "collapsed": true
   },
   "outputs": [],
   "source": [
    "sess.close()"
   ]
  },
  {
   "cell_type": "code",
   "execution_count": null,
   "metadata": {
    "collapsed": true
   },
   "outputs": [],
   "source": []
  }
 ],
 "metadata": {
  "kernelspec": {
   "display_name": "Python 2",
   "language": "python",
   "name": "python2"
  },
  "language_info": {
   "codemirror_mode": {
    "name": "ipython",
    "version": 2
   },
   "file_extension": ".py",
   "mimetype": "text/x-python",
   "name": "python",
   "nbconvert_exporter": "python",
   "pygments_lexer": "ipython2",
   "version": "2.7.13"
  }
 },
 "nbformat": 4,
 "nbformat_minor": 2
}
