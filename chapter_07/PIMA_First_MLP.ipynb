{
 "cells": [
  {
   "cell_type": "markdown",
   "metadata": {},
   "source": [
    "# Pima Diabetes Multi-layered Perceptron (MLP) Model\n",
    "\n",
    "From Bogardus and Lilioja, _Pima Indians as a model to study the genetics of NIDDM_. J Cell Biochem. 1992 Apr;48(4):337-43.\n",
    "\n",
    "> More than half the Pima Indians over 35 years of age have non-insulin dependent diabetes mellitus (NIDDM). They have been the focus of prospective epidemiologic and metabolic studies for over two decades and the data collected during these studies are now proving invaluable in efforts to find genetic markers for NIDDM in humans. The Pima Indian model of this disease affords two major advantages. The population is genetically homogeneous compared to Caucasian populations, and therefore the causes of NIDDM are less heterogeneous, simplifying genetic linkage studies. Equally important, based on results from metabolic studies, two pre-diabetic phenotypes have been identified in the Pimas: insulin resistance and a low metabolic rate. Use of these phenotypes in genetic linkage analyses should greatly improve chances of finding genetic markers for NIDDM since these phenotypes may be more closely related to the putative abnormal gene products, and actual disease genes, than is the hyperglycemia of the fully developed phenotype of NIDDM."
   ]
  },
  {
   "cell_type": "markdown",
   "metadata": {},
   "source": [
    "So this dataset has physiological values for human subjects and is trying to see if those values can be used to predict if someone has diabetes or not. This is a classic binary classification problem.\n",
    "\n",
    "According to the [Kaggle](https://www.kaggle.com/uciml/pima-indians-diabetes-database) website these are the features:\n",
    "\n",
    "Feature name | Feature description\n",
    "-------------- | ------------------\n",
    "Pregnancies | Number of times pregnant\n",
    "Glucose | Plasma glucose concentration a 2 hours in an oral glucose tolerance test\n",
    "Blood Pressure | Diastolic blood pressure (mm Hg)\n",
    "Skin Thickness | Triceps skin fold thickness (mm)\n",
    "Insulin | 2-Hour serum insulin (mu U/ml)\n",
    "BMI | Body mass index (weight in kg/(height in m)^2)\n",
    "Diabetes Pedigree Function | Diabetes pedigree function\n",
    "Age| Age (years)\n",
    "\n",
    "\n",
    "Outcome: Class variable (0=no diabetes or 1=diabetes)\n",
    "\n",
    "Kaggle says that the publically-available data we have is a subset of all woman over the age of 21.\n"
   ]
  },
  {
   "cell_type": "code",
   "execution_count": 1,
   "metadata": {},
   "outputs": [
    {
     "name": "stderr",
     "output_type": "stream",
     "text": [
      "Using TensorFlow backend.\n"
     ]
    }
   ],
   "source": [
    "# Create your first MLP in Keras\n",
    "from keras.models import Sequential\n",
    "from keras.layers import Dense, Dropout\n",
    "import numpy as np"
   ]
  },
  {
   "cell_type": "markdown",
   "metadata": {},
   "source": [
    "# Keras\n",
    "\n",
    "[Keras](https://keras.io/) is a high-level neural network API written in Python. It capable of running on top of either TensorFlow, CNTK or Theano. It allows fast experimentation with deep neural network architectures because it handles a lot of the legwork in coding. Think of it as an abstraction of TensorFlow that is specific for generating convolutional and recurrent neural networks.\n",
    "\n",
    "Keras will automatically determine which deep learning library you have installed. It will default to TensorFlow but fall back on Theano if TensorFlow is not installed."
   ]
  },
  {
   "cell_type": "code",
   "execution_count": 2,
   "metadata": {
    "collapsed": true
   },
   "outputs": [],
   "source": [
    "# fix random seed for reproducibility\n",
    "np.random.seed(7)\n",
    "# load pima indians dataset\n",
    "dataset = np.loadtxt(\"pima-indians-diabetes.csv\", delimiter=\",\")"
   ]
  },
  {
   "cell_type": "code",
   "execution_count": 3,
   "metadata": {
    "collapsed": true
   },
   "outputs": [],
   "source": [
    "# split into input (X) and output (Y) variables\n",
    "X = dataset[:,0:8]\n",
    "y = dataset[:,8]"
   ]
  },
  {
   "cell_type": "code",
   "execution_count": 4,
   "metadata": {
    "collapsed": true
   },
   "outputs": [],
   "source": [
    "from sklearn.model_selection import train_test_split\n",
    "\n",
    "X_train, X_test, y_train, y_test = train_test_split(X, y, test_size=0.2, random_state=42)\n"
   ]
  },
  {
   "cell_type": "markdown",
   "metadata": {},
   "source": [
    "## Here is the Keras code to set up a multi-layered neural network. \n",
    "\n",
    "The code here is generic. If you are using Theano, this will generate Theano code under the hood. If you are using TensorFlow, then it will generate TensorFlow code under the hood. Same high-level Keras code for two different libraries."
   ]
  },
  {
   "cell_type": "markdown",
   "metadata": {},
   "source": [
    "## Sequential layers\n",
    "\n",
    "The simplest neural network is just a linear stack of layers. So layer A goes into layer B which goes into layer C, etc."
   ]
  },
  {
   "cell_type": "code",
   "execution_count": 5,
   "metadata": {
    "collapsed": true
   },
   "outputs": [],
   "source": [
    "model = Sequential()  # My model is a series of connected neural network layers"
   ]
  },
  {
   "cell_type": "markdown",
   "metadata": {},
   "source": [
    "## First layer\n",
    "\n",
    "We add our first layer: It's a \"dense\" layer with 12 nodes and expects 8 inputs (from the X data). So this is 12 neurons. Each neuron gets all 8 inputs. The activation function in a rectified linear unit (ReLu)."
   ]
  },
  {
   "cell_type": "code",
   "execution_count": 6,
   "metadata": {
    "collapsed": true
   },
   "outputs": [],
   "source": [
    "model.add(Dense(12, input_dim=8, activation='relu'))"
   ]
  },
  {
   "cell_type": "markdown",
   "metadata": {},
   "source": [
    "## Second layer\n",
    "\n",
    "Our second layer is another \"dense\" layer. We don't need to specify the number of inputs to the layer. Keras already knows that it expects to receive everything output from the previous layer (12 inputs). This layer has 6 nodes and again uses ReLu."
   ]
  },
  {
   "cell_type": "code",
   "execution_count": 7,
   "metadata": {
    "collapsed": true
   },
   "outputs": [],
   "source": [
    "model.add(Dense(6, activation='relu'))\n",
    "\n"
   ]
  },
  {
   "cell_type": "markdown",
   "metadata": {},
   "source": [
    "## Dropout layer\n",
    "\n",
    "[Dropout](https://www.youtube.com/watch?v=UcKPdAM8cnI&) is a remarkably simple idea to prevent the neural network from over-fitting. With dropout, a certain percentage of the neurons in the layer are randomly excluded from the neural network during a given training run. This seems to be enough to prevent over-fitting and it also tends to find network architectures that are optimal. Think of it like an ensemble method like boosting. Every training run is actually trying to fit a slightly different neural network.\n",
    "\n",
    "[Hinton](http://www.jmlr.org/papers/volume15/srivastava14a.old/source/srivastava14a.pdf) describes it like this:\n",
    "\n",
    "> It  prevents  overfitting  and provides  a  way  of  approximately  combining  exponentially  many  different  neural  network architectures  efficiently.   The  term  “dropout”  refers  to  dropping  out  units  (hidden  and visible) in a neural network.  By dropping a unit out, we mean temporarily removing it from the network, along with all its incoming and outgoing connections, as shown in Figure 1. The choice of which units to drop is random.  In the simplest case, each unit is retained with a fixed probability p independent of other units, where p can be chosen using a validation set  or  can  simply  be  set  at  0.5,  which  seems  to  be  close  to  optimal  for  a  wide  range  of networks and tasks.  For the input units, however, the optimal probability of retention isusually closer to 1 than to 0.5."
   ]
  },
  {
   "cell_type": "code",
   "execution_count": 8,
   "metadata": {
    "collapsed": true
   },
   "outputs": [],
   "source": [
    "#model.add(Dropout(0.5))"
   ]
  },
  {
   "cell_type": "markdown",
   "metadata": {},
   "source": [
    "## Third Layer\n",
    "\n",
    "The third layer is again a \"dense\" layer. This is our output layer. So we only need 1 neuron (1 node). Since this is a binary classifier, we use the signmoid activation function. If this were a multi-class classifier, then we would use \"softmax\"."
   ]
  },
  {
   "cell_type": "code",
   "execution_count": 9,
   "metadata": {
    "collapsed": true
   },
   "outputs": [],
   "source": [
    "model.add(Dense(1, activation='sigmoid'))"
   ]
  },
  {
   "cell_type": "markdown",
   "metadata": {},
   "source": [
    "## Compile the graph\n",
    "\n",
    "Now we ask Keras to compile our graph. Since it is using TensorFlow or Theano, the backpropagation and other baggage is automatically handled for us. We'll use \"binary_crossentropy\" as the loss function (it measures how \"wrong\" our classifier is). It uses [\"adam\"](http://sebastianruder.com/optimizing-gradient-descent/index.html#adam) for the gradient descent method (backpropagation with alpha momentum), and prints the accuracy of the model after every epoch."
   ]
  },
  {
   "cell_type": "code",
   "execution_count": 10,
   "metadata": {},
   "outputs": [
    {
     "name": "stdout",
     "output_type": "stream",
     "text": [
      "_________________________________________________________________\n",
      "Layer (type)                 Output Shape              Param #   \n",
      "=================================================================\n",
      "dense_1 (Dense)              (None, 12)                108       \n",
      "_________________________________________________________________\n",
      "dense_2 (Dense)              (None, 6)                 78        \n",
      "_________________________________________________________________\n",
      "dense_3 (Dense)              (None, 1)                 7         \n",
      "=================================================================\n",
      "Total params: 193\n",
      "Trainable params: 193\n",
      "Non-trainable params: 0\n",
      "_________________________________________________________________\n"
     ]
    }
   ],
   "source": [
    "# Compile model\n",
    "model.compile(loss='binary_crossentropy', optimizer='adam', metrics=['accuracy'])\n",
    "\n",
    "model.summary()"
   ]
  },
  {
   "cell_type": "markdown",
   "metadata": {},
   "source": [
    "## Run the model\n",
    "This is where the actual training and calculations occur.\n",
    "\n",
    "If you have your GPU enabled, you can run 'nvidia-smi' from the command line to verify that your GPUs are being used by TensorFlow.\n",
    "\n",
    "Each epoch is one run through the entire data set. Remember that with stochasitic gradient descent, we typically need multiple runs through the data in order to get to loss minimum."
   ]
  },
  {
   "cell_type": "code",
   "execution_count": 11,
   "metadata": {
    "collapsed": true
   },
   "outputs": [],
   "source": [
    "from keras.callbacks import ModelCheckpoint, EarlyStopping"
   ]
  },
  {
   "cell_type": "markdown",
   "metadata": {},
   "source": [
    "## Callbacks\n",
    "\n",
    "We can add lots of goodies when running our models. \n",
    "\n",
    "First, we should probably add an \"Early Stopping\" command. This allows the model to stop the gradient descent if it determines that the error is not changing much. We'll use \"value loss\" as our metric and wait until it hasn't improved for 10 iterations.\n",
    "\n",
    "Second, let's save the weights of our model. This way if the computer crashes, we at least have the last best values to start with when we re-run the gradient descent.\n",
    "\n",
    "Finally, we'll pass in the validation data. Keras will use this to do a simple cross-validation (training error versus testing error). I don't know if there's a K-folds. It might be useful."
   ]
  },
  {
   "cell_type": "code",
   "execution_count": 12,
   "metadata": {},
   "outputs": [
    {
     "name": "stdout",
     "output_type": "stream",
     "text": [
      "Train on 614 samples, validate on 154 samples\n",
      "Epoch 1/150\n",
      "Epoch 00000: val_loss improved from inf to 0.95324, saving model to pima.wts.h5\n",
      "0s - loss: 2.8912 - acc: 0.5049 - val_loss: 0.9532 - val_acc: 0.6429\n",
      "Epoch 2/150\n",
      "Epoch 00001: val_loss improved from 0.95324 to 0.80961, saving model to pima.wts.h5\n",
      "0s - loss: 0.8345 - acc: 0.6303 - val_loss: 0.8096 - val_acc: 0.6104\n",
      "Epoch 3/150\n",
      "Epoch 00002: val_loss improved from 0.80961 to 0.74161, saving model to pima.wts.h5\n",
      "0s - loss: 0.7309 - acc: 0.6515 - val_loss: 0.7416 - val_acc: 0.6364\n",
      "Epoch 4/150\n",
      "Epoch 00003: val_loss did not improve\n",
      "0s - loss: 0.6900 - acc: 0.6580 - val_loss: 0.8108 - val_acc: 0.6494\n",
      "Epoch 5/150\n",
      "Epoch 00004: val_loss improved from 0.74161 to 0.70128, saving model to pima.wts.h5\n",
      "0s - loss: 0.6579 - acc: 0.6547 - val_loss: 0.7013 - val_acc: 0.6429\n",
      "Epoch 6/150\n",
      "Epoch 00005: val_loss did not improve\n",
      "0s - loss: 0.6267 - acc: 0.6840 - val_loss: 0.7282 - val_acc: 0.6429\n",
      "Epoch 7/150\n",
      "Epoch 00006: val_loss did not improve\n",
      "0s - loss: 0.6244 - acc: 0.6922 - val_loss: 0.7364 - val_acc: 0.5909\n",
      "Epoch 8/150\n",
      "Epoch 00007: val_loss did not improve\n",
      "0s - loss: 0.6173 - acc: 0.6954 - val_loss: 0.7530 - val_acc: 0.6169\n",
      "Epoch 9/150\n",
      "Epoch 00008: val_loss improved from 0.70128 to 0.70031, saving model to pima.wts.h5\n",
      "0s - loss: 0.6194 - acc: 0.6710 - val_loss: 0.7003 - val_acc: 0.6494\n",
      "Epoch 10/150\n",
      "Epoch 00009: val_loss improved from 0.70031 to 0.69879, saving model to pima.wts.h5\n",
      "0s - loss: 0.6143 - acc: 0.6906 - val_loss: 0.6988 - val_acc: 0.6558\n",
      "Epoch 11/150\n",
      "Epoch 00010: val_loss improved from 0.69879 to 0.68358, saving model to pima.wts.h5\n",
      "0s - loss: 0.6317 - acc: 0.6906 - val_loss: 0.6836 - val_acc: 0.7273\n",
      "Epoch 12/150\n",
      "Epoch 00011: val_loss did not improve\n",
      "0s - loss: 0.5855 - acc: 0.7117 - val_loss: 0.7295 - val_acc: 0.6883\n",
      "Epoch 13/150\n",
      "Epoch 00012: val_loss did not improve\n",
      "0s - loss: 0.5874 - acc: 0.7248 - val_loss: 0.7039 - val_acc: 0.6494\n",
      "Epoch 14/150\n",
      "Epoch 00013: val_loss did not improve\n",
      "0s - loss: 0.5915 - acc: 0.6922 - val_loss: 0.6934 - val_acc: 0.6818\n",
      "Epoch 15/150\n",
      "Epoch 00014: val_loss did not improve\n",
      "0s - loss: 0.6264 - acc: 0.6971 - val_loss: 0.7068 - val_acc: 0.7078\n",
      "Epoch 16/150\n",
      "Epoch 00015: val_loss did not improve\n",
      "0s - loss: 0.5865 - acc: 0.6938 - val_loss: 0.7018 - val_acc: 0.7208\n",
      "Epoch 17/150\n",
      "Epoch 00016: val_loss did not improve\n",
      "0s - loss: 0.5870 - acc: 0.7134 - val_loss: 0.6917 - val_acc: 0.6883\n",
      "Epoch 18/150\n",
      "Epoch 00017: val_loss did not improve\n",
      "0s - loss: 0.5700 - acc: 0.7117 - val_loss: 0.7048 - val_acc: 0.6623\n",
      "Epoch 19/150\n",
      "Epoch 00018: val_loss did not improve\n",
      "0s - loss: 0.5804 - acc: 0.7085 - val_loss: 0.6923 - val_acc: 0.6818\n",
      "Epoch 20/150\n",
      "Epoch 00019: val_loss did not improve\n",
      "0s - loss: 0.5763 - acc: 0.6954 - val_loss: 0.6932 - val_acc: 0.6623\n",
      "Epoch 21/150\n",
      "Epoch 00020: val_loss did not improve\n",
      "0s - loss: 0.5802 - acc: 0.7085 - val_loss: 0.7223 - val_acc: 0.6688\n",
      "Epoch 22/150\n",
      "Epoch 00021: val_loss did not improve\n",
      "0s - loss: 0.5645 - acc: 0.7313 - val_loss: 0.7033 - val_acc: 0.7013\n",
      "Epoch 00021: early stopping\n"
     ]
    }
   ],
   "source": [
    "# Check if there is a previous weights file and load it if it exists.\n",
    "# This will allows us to resume from where we left off.\n",
    "# import os\n",
    "\n",
    "# if (os.path.exists('pima.wts.h5')):\n",
    "#     model.load_weights('pima.wts.h5')\n",
    "\n",
    "# You can also skip SkLearn and do the train/validation split with Keras natively.\n",
    "#model.fit(X, y, validation_split=0.33, epochs=150, batch_size=10)\n",
    "\n",
    "# Fit the model\n",
    "history = model.fit(X_train,\n",
    "    y_train,\n",
    "    batch_size=10,  # This is mini-batch gradient descent. So calculate 10 points at a time.\n",
    "    epochs=150,     # Maximum of 150 epochs\n",
    "    verbose=2,\n",
    "    validation_data=(X_test, y_test),\n",
    "    callbacks = [\n",
    "        ModelCheckpoint('pima.wts.h5', monitor='val_loss', verbose=1, save_best_only=True, mode='auto'),\n",
    "        EarlyStopping(monitor='val_loss', patience=10, verbose=1, mode='auto')\n",
    "    ])"
   ]
  },
  {
   "cell_type": "markdown",
   "metadata": {},
   "source": [
    "There are lots of additional commands when compiling and running the model. For instance, you can do cross-validation and plot the training and testing set loss. You can also calculate F1, AUC, precision, recall, etc."
   ]
  },
  {
   "cell_type": "code",
   "execution_count": 13,
   "metadata": {},
   "outputs": [
    {
     "name": "stdout",
     "output_type": "stream",
     "text": [
      " 32/154 [=====>........................] - ETA: 0s()\n",
      "()\n",
      "             precision    recall  f1-score   support\n",
      "\n",
      "        0.0       0.80      0.72      0.76        99\n",
      "        1.0       0.57      0.67      0.62        55\n",
      "\n",
      "avg / total       0.72      0.70      0.71       154\n",
      "\n"
     ]
    }
   ],
   "source": [
    "from sklearn.metrics import classification_report\n",
    "y_predict = model.predict_classes(X_test)\n",
    "print()\n",
    "print()\n",
    "print(classification_report(y_test, y_predict))"
   ]
  },
  {
   "cell_type": "markdown",
   "metadata": {},
   "source": [
    "## Print the accuracy of the model on the training and testing sets"
   ]
  },
  {
   "cell_type": "code",
   "execution_count": 14,
   "metadata": {},
   "outputs": [
    {
     "name": "stdout",
     "output_type": "stream",
     "text": [
      " 32/614 [>.............................] - ETA: 0s\n",
      "acc: 71.82%\n"
     ]
    }
   ],
   "source": [
    "# evaluate the model\n",
    "scores = model.evaluate(X_train, y_train)\n",
    "print(\"\\n%s: %.2f%%\" % (model.metrics_names[1], scores[1]*100))"
   ]
  },
  {
   "cell_type": "code",
   "execution_count": 15,
   "metadata": {},
   "outputs": [
    {
     "name": "stdout",
     "output_type": "stream",
     "text": [
      " 32/154 [=====>........................] - ETA: 0s\n",
      "acc: 70.13%\n"
     ]
    }
   ],
   "source": [
    "scores = model.evaluate(X_test, y_test)\n",
    "print(\"\\n%s: %.2f%%\" % (model.metrics_names[1], scores[1]*100))"
   ]
  },
  {
   "cell_type": "markdown",
   "metadata": {},
   "source": [
    "## Let's plot the training and testing errors over epochs\n",
    "\n",
    "This will tell us if we have over-trained our network. If testing error increases while training error decreases, then we are over-fitting the model."
   ]
  },
  {
   "cell_type": "code",
   "execution_count": 16,
   "metadata": {},
   "outputs": [
    {
     "data": {
      "image/png": "[encoded data removed]",
      "text/plain": [
       "<matplotlib.figure.Figure at 0x7f8ef4dd5a10>"
      ]
     },
     "metadata": {},
     "output_type": "display_data"
    }
   ],
   "source": [
    "import matplotlib.pyplot as plt\n",
    "%matplotlib inline\n",
    "\n",
    "# Show loss curves \n",
    "plt.figure();\n",
    "plt.title('Training performance');\n",
    "plt.plot(history.epoch, history.history['loss'], label='train error');\n",
    "plt.plot(history.epoch, history.history['val_loss'], label='testing error');\n",
    "plt.legend();"
   ]
  },
  {
   "cell_type": "markdown",
   "metadata": {
    "collapsed": true
   },
   "source": [
    "## Over-fitting\n",
    "\n",
    "Let's go back through the model and add dropout.\n",
    "\n",
    "Here's the idea of what we should see.\n",
    "\n",
    "In the first graph, we have a neural network that it overfit. (The model is not the current PIMA one; instead I am using a CNN for the CIFAR10 image set).\n",
    "\n",
    "![overfitting](overfitting.png)\n",
    "\n",
    "Now I take the same CNN and add in some dropout layers between the convolutional layers. I then re-train the modified model.\n",
    "\n",
    "![overfitting?](overfittingDROPOUT.png)\n",
    "\n",
    "Voila! The training and testing errors now match. So overfitting has been corrected."
   ]
  },
  {
   "cell_type": "code",
   "execution_count": null,
   "metadata": {
    "collapsed": true
   },
   "outputs": [],
   "source": []
  }
 ],
 "metadata": {
  "kernelspec": {
   "display_name": "Python 2",
   "language": "python",
   "name": "python2"
  },
  "language_info": {
   "codemirror_mode": {
    "name": "ipython",
    "version": 2
   },
   "file_extension": ".py",
   "mimetype": "text/x-python",
   "name": "python",
   "nbconvert_exporter": "python",
   "pygments_lexer": "ipython2",
   "version": "2.7.13"
  }
 },
 "nbformat": 4,
 "nbformat_minor": 2
}
